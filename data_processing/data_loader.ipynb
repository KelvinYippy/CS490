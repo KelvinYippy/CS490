{
  "cells": [
    {
      "cell_type": "code",
      "execution_count": 4,
      "metadata": {
        "id": "ypHX2JLMBybV"
      },
      "outputs": [],
      "source": [
        "import os\n",
        "import shutil\n",
        "from tqdm import tqdm\n",
        "from cv2 import VideoCapture, CAP_PROP_FPS, imwrite, destroyAllWindows"
      ]
    },
    {
      "cell_type": "code",
      "execution_count": 5,
      "metadata": {
        "id": "Xx1mD11AJkqc"
      },
      "outputs": [],
      "source": [
        "def add_to_file(path: str, new_content: str):\n",
        "    \"\"\"\n",
        "        Add text to the file provided by the path\n",
        "        path : str\n",
        "            The path of where the file is located\n",
        "        new_content : str\n",
        "            The new text content to append to the file\n",
        "    \"\"\"\n",
        "    with open(path, \"a\") as f:\n",
        "        if os.path.getsize(path) > 0:\n",
        "            f.write(\"\\n\")\n",
        "        f.write(new_content)\n",
        "    f.close()"
      ]
    },
    {
      "cell_type": "code",
      "execution_count": 8,
      "metadata": {
        "id": "OJqGXbkfB--U"
      },
      "outputs": [],
      "source": [
        "def remove_file_contents():\n",
        "    \"\"\"\n",
        "        Remove all the content of files\n",
        "    \"\"\"\n",
        "    files = [\"/content/drive/MyDrive/Colab Notebooks/CPSC 490/paths.txt\", \"/content/drive/MyDrive/Colab Notebooks/CPSC 490/scores.txt\"]\n",
        "    for file in files:\n",
        "        with open(file, \"w\") as f:\n",
        "            f.truncate()"
      ]
    },
    {
      "cell_type": "code",
      "execution_count": 7,
      "metadata": {
        "id": "ecUjfThlB5x2"
      },
      "outputs": [],
      "source": [
        "def delete_all_frames():\n",
        "    \"\"\"\n",
        "        Remove all the frames of clips located in the frames folders\n",
        "    \"\"\"\n",
        "    for boolean in range(2):\n",
        "        path = os.path.join(\"/content/drive/MyDrive/Colab Notebooks/CPSC 490/frames\", str(boolean))\n",
        "        for directory in os.listdir(path):\n",
        "            shutil.rmtree(os.path.join(path, directory))"
      ]
    },
    {
      "cell_type": "code",
      "execution_count": null,
      "metadata": {
        "id": "XVaVSlXeGze4"
      },
      "outputs": [],
      "source": [
        "def get_frame_rate(path: str):\n",
        "    \"\"\"\n",
        "        Get the frame rate per second of a video given its path\n",
        "        path : str\n",
        "            The path of where the video is located\n",
        "    \"\"\"\n",
        "    cap = VideoCapture(path)\n",
        "    fps = int(cap.get(CAP_PROP_FPS))\n",
        "    return fps"
      ]
    },
    {
      "cell_type": "code",
      "execution_count": null,
      "metadata": {
        "id": "nYeOFS6rG0xp"
      },
      "outputs": [],
      "source": [
        "def extract_frames(path: str, boolean: str):\n",
        "    \"\"\"\n",
        "        Extract frames from the video located at path, and puts it into frames folder of boolean type.\n",
        "        path : str\n",
        "            The path of where the video is located\n",
        "        boolean: str\n",
        "            The classification of the video (Available Options: [\"Yes\", \"No\"])\n",
        "    \"\"\"\n",
        "    cap = VideoCapture(path)\n",
        "    i, frames = 0, 0\n",
        "    frame_rate = get_frame_rate(path)\n",
        "    new_folder = os.path.join(\"/content/drive/MyDrive/Colab Notebooks/CPSC 490/frames\", f'{boolean}/{path[path.rfind(\"/\") + 1:-4]}')\n",
        "    os.mkdir(new_folder)\n",
        "    add_to_file(\"/content/drive/MyDrive/Colab Notebooks/CPSC 490/paths.txt\", new_folder)\n",
        "    add_to_file(\"/content/drive/MyDrive/Colab Notebooks/CPSC 490/scores.txt\", boolean)\n",
        "    while cap.isOpened() and frames < 5:\n",
        "        ret, frame = cap.read()\n",
        "        if ret == False:\n",
        "            break\n",
        "        if i % (frame_rate // 2) == 0:\n",
        "            imwrite(f'{new_folder}/{i}.jpg', frame)\n",
        "            frames += 1\n",
        "        i += 1\n",
        "    cap.release()\n",
        "    destroyAllWindows()"
      ]
    },
    {
      "cell_type": "code",
      "execution_count": 6,
      "metadata": {
        "id": "vbSzqCgoB2jb"
      },
      "outputs": [],
      "source": [
        "def load_data():\n",
        "    \"\"\"\n",
        "        Run the data loader.\n",
        "    \"\"\"\n",
        "    remove_file_contents()\n",
        "    delete_all_frames()\n",
        "    clip_categories = os.listdir(\"/content/drive/MyDrive/Colab Notebooks/CPSC 490/clips\")\n",
        "    for category in clip_categories:\n",
        "        for boolean in range(2):\n",
        "            path = os.path.join(\"/content/drive/MyDrive/Colab Notebooks/CPSC 490/clips\", category, str(boolean))\n",
        "            for filename in tqdm(os.listdir(path)):\n",
        "                f = os.path.join(path, filename)\n",
        "                extract_frames(f, str(boolean))"
      ]
    },
    {
      "cell_type": "code",
      "execution_count": null,
      "metadata": {
        "colab": {
          "base_uri": "https://localhost:8080/"
        },
        "id": "DhlZ8kUzAuL3",
        "outputId": "86d4a35d-0552-4fb8-bdfc-58ae0685b850"
      },
      "outputs": [
        {
          "name": "stderr",
          "output_type": "stream",
          "text": [
            "100%|██████████| 683/683 [16:28<00:00,  1.45s/it]\n",
            "100%|██████████| 801/801 [19:00<00:00,  1.42s/it]\n",
            "100%|██████████| 121/121 [02:49<00:00,  1.40s/it]\n",
            "100%|██████████| 142/142 [03:16<00:00,  1.38s/it]\n",
            "100%|██████████| 312/312 [01:35<00:00,  3.27it/s]\n",
            "100%|██████████| 214/214 [02:52<00:00,  1.24it/s]\n"
          ]
        }
      ],
      "source": [
        "load_data()"
      ]
    }
  ],
  "metadata": {
    "colab": {
      "gpuType": "T4",
      "provenance": []
    },
    "kernelspec": {
      "display_name": "Python 3",
      "name": "python3"
    },
    "language_info": {
      "codemirror_mode": {
        "name": "ipython",
        "version": 3
      },
      "file_extension": ".py",
      "mimetype": "text/x-python",
      "name": "python",
      "nbconvert_exporter": "python",
      "pygments_lexer": "ipython3",
      "version": "3.11.3"
    }
  },
  "nbformat": 4,
  "nbformat_minor": 0
}
